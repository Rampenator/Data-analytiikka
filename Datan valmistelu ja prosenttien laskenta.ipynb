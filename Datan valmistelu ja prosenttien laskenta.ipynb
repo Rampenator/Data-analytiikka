{
 "cells": [
  {
   "cell_type": "code",
   "execution_count": 1,
   "metadata": {},
   "outputs": [],
   "source": [
    "import numpy as np\n",
    "import pandas as pd\n",
    "import matplotlib.pyplot as plt\n",
    "%matplotlib inline"
   ]
  },
  {
   "cell_type": "code",
   "execution_count": 2,
   "metadata": {
    "scrolled": true
   },
   "outputs": [
    {
     "data": {
      "text/html": [
       "<div>\n",
       "<style scoped>\n",
       "    .dataframe tbody tr th:only-of-type {\n",
       "        vertical-align: middle;\n",
       "    }\n",
       "\n",
       "    .dataframe tbody tr th {\n",
       "        vertical-align: top;\n",
       "    }\n",
       "\n",
       "    .dataframe thead th {\n",
       "        text-align: right;\n",
       "    }\n",
       "</style>\n",
       "<table border=\"1\" class=\"dataframe\">\n",
       "  <thead>\n",
       "    <tr style=\"text-align: right;\">\n",
       "      <th></th>\n",
       "      <th>nro</th>\n",
       "      <th>sukup</th>\n",
       "      <th>ikä</th>\n",
       "      <th>perhe</th>\n",
       "      <th>koulutus</th>\n",
       "      <th>työv</th>\n",
       "      <th>palkka</th>\n",
       "      <th>johto</th>\n",
       "      <th>työtov</th>\n",
       "      <th>työymp</th>\n",
       "      <th>palkkat</th>\n",
       "      <th>työteht</th>\n",
       "      <th>työterv</th>\n",
       "      <th>osake</th>\n",
       "      <th>sali</th>\n",
       "      <th>hieroja</th>\n",
       "      <th>koul_text</th>\n",
       "      <th>perhe_text</th>\n",
       "      <th>sukup_text</th>\n",
       "    </tr>\n",
       "  </thead>\n",
       "  <tbody>\n",
       "    <tr>\n",
       "      <th>0</th>\n",
       "      <td>1</td>\n",
       "      <td>1</td>\n",
       "      <td>38</td>\n",
       "      <td>1</td>\n",
       "      <td>1.0</td>\n",
       "      <td>22.0</td>\n",
       "      <td>3587</td>\n",
       "      <td>3</td>\n",
       "      <td>3.0</td>\n",
       "      <td>3</td>\n",
       "      <td>3</td>\n",
       "      <td>3</td>\n",
       "      <td>NaN</td>\n",
       "      <td>NaN</td>\n",
       "      <td>NaN</td>\n",
       "      <td>NaN</td>\n",
       "      <td>Peruskoulu</td>\n",
       "      <td>Perheetön</td>\n",
       "      <td>Mies</td>\n",
       "    </tr>\n",
       "    <tr>\n",
       "      <th>1</th>\n",
       "      <td>2</td>\n",
       "      <td>1</td>\n",
       "      <td>29</td>\n",
       "      <td>2</td>\n",
       "      <td>2.0</td>\n",
       "      <td>10.0</td>\n",
       "      <td>2963</td>\n",
       "      <td>1</td>\n",
       "      <td>5.0</td>\n",
       "      <td>2</td>\n",
       "      <td>1</td>\n",
       "      <td>3</td>\n",
       "      <td>NaN</td>\n",
       "      <td>NaN</td>\n",
       "      <td>NaN</td>\n",
       "      <td>NaN</td>\n",
       "      <td>2.aste</td>\n",
       "      <td>Perheellinen</td>\n",
       "      <td>Mies</td>\n",
       "    </tr>\n",
       "    <tr>\n",
       "      <th>2</th>\n",
       "      <td>3</td>\n",
       "      <td>1</td>\n",
       "      <td>30</td>\n",
       "      <td>1</td>\n",
       "      <td>1.0</td>\n",
       "      <td>7.0</td>\n",
       "      <td>1989</td>\n",
       "      <td>3</td>\n",
       "      <td>4.0</td>\n",
       "      <td>1</td>\n",
       "      <td>1</td>\n",
       "      <td>3</td>\n",
       "      <td>1.0</td>\n",
       "      <td>NaN</td>\n",
       "      <td>NaN</td>\n",
       "      <td>NaN</td>\n",
       "      <td>Peruskoulu</td>\n",
       "      <td>Perheetön</td>\n",
       "      <td>Mies</td>\n",
       "    </tr>\n",
       "    <tr>\n",
       "      <th>3</th>\n",
       "      <td>4</td>\n",
       "      <td>1</td>\n",
       "      <td>36</td>\n",
       "      <td>2</td>\n",
       "      <td>1.0</td>\n",
       "      <td>14.0</td>\n",
       "      <td>2144</td>\n",
       "      <td>3</td>\n",
       "      <td>3.0</td>\n",
       "      <td>3</td>\n",
       "      <td>3</td>\n",
       "      <td>3</td>\n",
       "      <td>1.0</td>\n",
       "      <td>NaN</td>\n",
       "      <td>NaN</td>\n",
       "      <td>NaN</td>\n",
       "      <td>Peruskoulu</td>\n",
       "      <td>Perheellinen</td>\n",
       "      <td>Mies</td>\n",
       "    </tr>\n",
       "    <tr>\n",
       "      <th>4</th>\n",
       "      <td>5</td>\n",
       "      <td>1</td>\n",
       "      <td>24</td>\n",
       "      <td>1</td>\n",
       "      <td>2.0</td>\n",
       "      <td>4.0</td>\n",
       "      <td>2183</td>\n",
       "      <td>2</td>\n",
       "      <td>3.0</td>\n",
       "      <td>2</td>\n",
       "      <td>1</td>\n",
       "      <td>2</td>\n",
       "      <td>1.0</td>\n",
       "      <td>NaN</td>\n",
       "      <td>NaN</td>\n",
       "      <td>NaN</td>\n",
       "      <td>2.aste</td>\n",
       "      <td>Perheetön</td>\n",
       "      <td>Mies</td>\n",
       "    </tr>\n",
       "  </tbody>\n",
       "</table>\n",
       "</div>"
      ],
      "text/plain": [
       "   nro  sukup  ikä  perhe  koulutus  työv  palkka  johto  työtov  työymp  \\\n",
       "0    1      1   38      1       1.0  22.0    3587      3     3.0       3   \n",
       "1    2      1   29      2       2.0  10.0    2963      1     5.0       2   \n",
       "2    3      1   30      1       1.0   7.0    1989      3     4.0       1   \n",
       "3    4      1   36      2       1.0  14.0    2144      3     3.0       3   \n",
       "4    5      1   24      1       2.0   4.0    2183      2     3.0       2   \n",
       "\n",
       "   palkkat  työteht  työterv  osake  sali  hieroja   koul_text    perhe_text  \\\n",
       "0        3        3      NaN    NaN   NaN      NaN  Peruskoulu     Perheetön   \n",
       "1        1        3      NaN    NaN   NaN      NaN      2.aste  Perheellinen   \n",
       "2        1        3      1.0    NaN   NaN      NaN  Peruskoulu     Perheetön   \n",
       "3        3        3      1.0    NaN   NaN      NaN  Peruskoulu  Perheellinen   \n",
       "4        1        2      1.0    NaN   NaN      NaN      2.aste     Perheetön   \n",
       "\n",
       "  sukup_text  \n",
       "0       Mies  \n",
       "1       Mies  \n",
       "2       Mies  \n",
       "3       Mies  \n",
       "4       Mies  "
      ]
     },
     "execution_count": 2,
     "metadata": {},
     "output_type": "execute_result"
    }
   ],
   "source": [
    "#Datan valmistelu\n",
    "df = pd.read_excel('http://taanila.fi/data1.xlsx', sheet_name='Data')\n",
    "\n",
    "#Annetaan koulutukselle ja perhesuhteelle tekstiarvo sekä vaihdetaan muuttujien nimiä\n",
    "df['koul_text'] = df['koulutus'].replace({1:'Peruskoulu', 2:'2.aste', 3:'Korkeakoulu', 4:'Ylempi korkeakoulu'})\n",
    "df['perhe_text'] = df['perhe'].replace({1:'Perheetön', 2:'Perheellinen'})\n",
    "df['sukup_text'] = df['sukup'].replace({1:'Mies', 2:'Nainen'})\n",
    "\n",
    "df.rename(columns={'palveluv':'työv', 'kuntosa':'sali', 'lomaosa':'osake'}, inplace=True)\n",
    "df.head()"
   ]
  },
  {
   "cell_type": "code",
   "execution_count": 3,
   "metadata": {},
   "outputs": [],
   "source": [
    "#Lukumäärien ja prosenttien laskenta ja esittäminen\n",
    "\n",
    "#Tallennetaan muuttujien tekstimuotoiset arvot lista-muuttujiin\n",
    "koulutusLista = ['Peruskoulu', '2. aste', 'Korkeakoulu', 'Ylempi korkeakoulu']\n",
    "perheLista = ['Perheetön', 'Perheellinen']\n",
    "sukupLista = ['Mies', 'Nainen']\n",
    "tyytyväisyysLista = ['Erittäin tyytymätön','Jokseenkin tyytymätön', \n",
    "                'Ei tyytymätön eikä tyytyväinen','Jokseenkin tyytyväinen','Erittäin tyytyväinen']"
   ]
  },
  {
   "cell_type": "code",
   "execution_count": 5,
   "metadata": {},
   "outputs": [
    {
     "data": {
      "text/html": [
       "<style  type=\"text/css\" >\n",
       "</style>  \n",
       "<table id=\"T_eacedec0_4c2a_11e9_b89e_9c5c8ebf7da4\" > \n",
       "<thead>    <tr> \n",
       "        <th class=\"blank level0\" ></th> \n",
       "        <th class=\"col_heading level0 col0\" >Mies (n=63)</th> \n",
       "        <th class=\"col_heading level0 col1\" >Nainen (n=19)</th> \n",
       "    </tr></thead> \n",
       "<tbody>    <tr> \n",
       "        <th id=\"T_eacedec0_4c2a_11e9_b89e_9c5c8ebf7da4level0_row0\" class=\"row_heading level0 row0\" >Erittäin tyytymätön</th> \n",
       "        <td id=\"T_eacedec0_4c2a_11e9_b89e_9c5c8ebf7da4row0_col0\" class=\"data row0 col0\" >50.8%</td> \n",
       "        <td id=\"T_eacedec0_4c2a_11e9_b89e_9c5c8ebf7da4row0_col1\" class=\"data row0 col1\" >5.3%</td> \n",
       "    </tr>    <tr> \n",
       "        <th id=\"T_eacedec0_4c2a_11e9_b89e_9c5c8ebf7da4level0_row1\" class=\"row_heading level0 row1\" >Jokseenkin tyytymätön</th> \n",
       "        <td id=\"T_eacedec0_4c2a_11e9_b89e_9c5c8ebf7da4row1_col0\" class=\"data row1 col0\" >19.0%</td> \n",
       "        <td id=\"T_eacedec0_4c2a_11e9_b89e_9c5c8ebf7da4row1_col1\" class=\"data row1 col1\" >36.8%</td> \n",
       "    </tr>    <tr> \n",
       "        <th id=\"T_eacedec0_4c2a_11e9_b89e_9c5c8ebf7da4level0_row2\" class=\"row_heading level0 row2\" >Ei tyytymätön eikä tyytyväinen</th> \n",
       "        <td id=\"T_eacedec0_4c2a_11e9_b89e_9c5c8ebf7da4row2_col0\" class=\"data row2 col0\" >19.0%</td> \n",
       "        <td id=\"T_eacedec0_4c2a_11e9_b89e_9c5c8ebf7da4row2_col1\" class=\"data row2 col1\" >36.8%</td> \n",
       "    </tr>    <tr> \n",
       "        <th id=\"T_eacedec0_4c2a_11e9_b89e_9c5c8ebf7da4level0_row3\" class=\"row_heading level0 row3\" >Jokseenkin tyytyväinen</th> \n",
       "        <td id=\"T_eacedec0_4c2a_11e9_b89e_9c5c8ebf7da4row3_col0\" class=\"data row3 col0\" >11.1%</td> \n",
       "        <td id=\"T_eacedec0_4c2a_11e9_b89e_9c5c8ebf7da4row3_col1\" class=\"data row3 col1\" >15.8%</td> \n",
       "    </tr>    <tr> \n",
       "        <th id=\"T_eacedec0_4c2a_11e9_b89e_9c5c8ebf7da4level0_row4\" class=\"row_heading level0 row4\" >Erittäin tyytyväinen</th> \n",
       "        <td id=\"T_eacedec0_4c2a_11e9_b89e_9c5c8ebf7da4row4_col0\" class=\"data row4 col0\" >0.0%</td> \n",
       "        <td id=\"T_eacedec0_4c2a_11e9_b89e_9c5c8ebf7da4row4_col1\" class=\"data row4 col1\" >5.3%</td> \n",
       "    </tr></tbody> \n",
       "</table> "
      ],
      "text/plain": [
       "<pandas.io.formats.style.Styler at 0x22ad5beeb38>"
      ]
     },
     "execution_count": 5,
     "metadata": {},
     "output_type": "execute_result"
    }
   ],
   "source": [
    "#Onko palkkatyytyväisyydessä eroja miesten ja naisten välillä?\n",
    "\n",
    "dfn=df.groupby('sukup')['palkkat'].count()\n",
    "\n",
    "df1 = pd.crosstab(df['palkkat'], df['sukup'], normalize='columns')\n",
    "df1.index = tyytyväisyysLista\n",
    "\n",
    "mies='Mies (n='+str(dfn[1])+')'\n",
    "nainen='Nainen (n='+str(dfn[2])+')'\n",
    "df1.columns = [mies, nainen]\n",
    "\n",
    "(df1*100).style.format('{:.1f}%')"
   ]
  },
  {
   "cell_type": "code",
   "execution_count": 6,
   "metadata": {},
   "outputs": [
    {
     "data": {
      "text/plain": [
       "[Text(0, 0, '0 %'),\n",
       " Text(0, 0, '10 %'),\n",
       " Text(0, 0, '20 %'),\n",
       " Text(0, 0, '30 %'),\n",
       " Text(0, 0, '40 %'),\n",
       " Text(0, 0, '50 %'),\n",
       " Text(0, 0, '60 %')]"
      ]
     },
     "execution_count": 6,
     "metadata": {},
     "output_type": "execute_result"
    },
    {
     "data": {
      "image/png": "[encoded data removed]",
      "text/plain": [
       "<Figure size 432x288 with 1 Axes>"
      ]
     },
     "metadata": {
      "needs_background": "light"
     },
     "output_type": "display_data"
    }
   ],
   "source": [
    "#havainnot esitettynä pylväsdiagrammina\n",
    "ax = df1.plot.barh()\n",
    "plt.xlabel('Prosenttia sukupuolesta')\n",
    "\n",
    "ax.set_xticklabels(['{:.0f} %'.format(x*100) for x in ax.get_xticks()])"
   ]
  },
  {
   "cell_type": "code",
   "execution_count": 9,
   "metadata": {},
   "outputs": [
    {
     "data": {
      "text/html": [
       "<style  type=\"text/css\" >\n",
       "</style>  \n",
       "<table id=\"T_e98ed49e_4c2d_11e9_b240_9c5c8ebf7da4\" > \n",
       "<thead>    <tr> \n",
       "        <th class=\"index_name level0\" >palkkaluokka</th> \n",
       "        <th class=\"col_heading level0 col0\" >(1000, 2000]</th> \n",
       "        <th class=\"col_heading level0 col1\" >(2000, 3000]</th> \n",
       "        <th class=\"col_heading level0 col2\" >(3000, 4000]</th> \n",
       "        <th class=\"col_heading level0 col3\" >(4000, 7000]</th> \n",
       "    </tr></thead> \n",
       "<tbody>    <tr> \n",
       "        <th id=\"T_e98ed49e_4c2d_11e9_b240_9c5c8ebf7da4level0_row0\" class=\"row_heading level0 row0\" >Erittäin tyytymätön</th> \n",
       "        <td id=\"T_e98ed49e_4c2d_11e9_b240_9c5c8ebf7da4row0_col0\" class=\"data row0 col0\" >47.4%</td> \n",
       "        <td id=\"T_e98ed49e_4c2d_11e9_b240_9c5c8ebf7da4row0_col1\" class=\"data row0 col1\" >42.0%</td> \n",
       "        <td id=\"T_e98ed49e_4c2d_11e9_b240_9c5c8ebf7da4row0_col2\" class=\"data row0 col2\" >37.5%</td> \n",
       "        <td id=\"T_e98ed49e_4c2d_11e9_b240_9c5c8ebf7da4row0_col3\" class=\"data row0 col3\" >0.0%</td> \n",
       "    </tr>    <tr> \n",
       "        <th id=\"T_e98ed49e_4c2d_11e9_b240_9c5c8ebf7da4level0_row1\" class=\"row_heading level0 row1\" >Jokseenkin tyytymätön</th> \n",
       "        <td id=\"T_e98ed49e_4c2d_11e9_b240_9c5c8ebf7da4row1_col0\" class=\"data row1 col0\" >31.6%</td> \n",
       "        <td id=\"T_e98ed49e_4c2d_11e9_b240_9c5c8ebf7da4row1_col1\" class=\"data row1 col1\" >20.0%</td> \n",
       "        <td id=\"T_e98ed49e_4c2d_11e9_b240_9c5c8ebf7da4row1_col2\" class=\"data row1 col2\" >12.5%</td> \n",
       "        <td id=\"T_e98ed49e_4c2d_11e9_b240_9c5c8ebf7da4row1_col3\" class=\"data row1 col3\" >40.0%</td> \n",
       "    </tr>    <tr> \n",
       "        <th id=\"T_e98ed49e_4c2d_11e9_b240_9c5c8ebf7da4level0_row2\" class=\"row_heading level0 row2\" >Ei tyytymätön eikä tyytyväinen</th> \n",
       "        <td id=\"T_e98ed49e_4c2d_11e9_b240_9c5c8ebf7da4row2_col0\" class=\"data row2 col0\" >21.1%</td> \n",
       "        <td id=\"T_e98ed49e_4c2d_11e9_b240_9c5c8ebf7da4row2_col1\" class=\"data row2 col1\" >26.0%</td> \n",
       "        <td id=\"T_e98ed49e_4c2d_11e9_b240_9c5c8ebf7da4row2_col2\" class=\"data row2 col2\" >25.0%</td> \n",
       "        <td id=\"T_e98ed49e_4c2d_11e9_b240_9c5c8ebf7da4row2_col3\" class=\"data row2 col3\" >0.0%</td> \n",
       "    </tr>    <tr> \n",
       "        <th id=\"T_e98ed49e_4c2d_11e9_b240_9c5c8ebf7da4level0_row3\" class=\"row_heading level0 row3\" >Jokseenkin tyytyväinen</th> \n",
       "        <td id=\"T_e98ed49e_4c2d_11e9_b240_9c5c8ebf7da4row3_col0\" class=\"data row3 col0\" >0.0%</td> \n",
       "        <td id=\"T_e98ed49e_4c2d_11e9_b240_9c5c8ebf7da4row3_col1\" class=\"data row3 col1\" >10.0%</td> \n",
       "        <td id=\"T_e98ed49e_4c2d_11e9_b240_9c5c8ebf7da4row3_col2\" class=\"data row3 col2\" >25.0%</td> \n",
       "        <td id=\"T_e98ed49e_4c2d_11e9_b240_9c5c8ebf7da4row3_col3\" class=\"data row3 col3\" >60.0%</td> \n",
       "    </tr>    <tr> \n",
       "        <th id=\"T_e98ed49e_4c2d_11e9_b240_9c5c8ebf7da4level0_row4\" class=\"row_heading level0 row4\" >Erittäin tyytyväinen</th> \n",
       "        <td id=\"T_e98ed49e_4c2d_11e9_b240_9c5c8ebf7da4row4_col0\" class=\"data row4 col0\" >0.0%</td> \n",
       "        <td id=\"T_e98ed49e_4c2d_11e9_b240_9c5c8ebf7da4row4_col1\" class=\"data row4 col1\" >2.0%</td> \n",
       "        <td id=\"T_e98ed49e_4c2d_11e9_b240_9c5c8ebf7da4row4_col2\" class=\"data row4 col2\" >0.0%</td> \n",
       "        <td id=\"T_e98ed49e_4c2d_11e9_b240_9c5c8ebf7da4row4_col3\" class=\"data row4 col3\" >0.0%</td> \n",
       "    </tr></tbody> \n",
       "</table> "
      ],
      "text/plain": [
       "<pandas.io.formats.style.Styler at 0x22ad65d3198>"
      ]
     },
     "execution_count": 9,
     "metadata": {},
     "output_type": "execute_result"
    }
   ],
   "source": [
    "#Vaikuttaako palkan suuruus(luokiteltuna) palkkatyytyväisyyteen\n",
    "\n",
    "bins = [1000, 2000, 3000, 4000, 7000]\n",
    "df['palkkaluokka'] = pd.cut(df['palkka'], bins = bins)\n",
    "\n",
    "df2 = pd.crosstab(df['palkkat'], df['palkkaluokka'], normalize='columns')\n",
    "df2.index = tyytyväisyysLista\n",
    "\n",
    "(df2*100).style.format('{:.1f}%')"
   ]
  },
  {
   "cell_type": "code",
   "execution_count": 11,
   "metadata": {},
   "outputs": [
    {
     "data": {
      "text/plain": [
       "[Text(0, 0, '0 %'),\n",
       " Text(0, 0, '20 %'),\n",
       " Text(0, 0, '40 %'),\n",
       " Text(0, 0, '60 %'),\n",
       " Text(0, 0, '80 %'),\n",
       " Text(0, 0, '100 %'),\n",
       " Text(0, 0, '120 %')]"
      ]
     },
     "execution_count": 11,
     "metadata": {},
     "output_type": "execute_result"
    },
    {
     "data": {
      "image/png": "[encoded data removed]",
      "text/plain": [
       "<Figure size 432x288 with 1 Axes>"
      ]
     },
     "metadata": {
      "needs_background": "light"
     },
     "output_type": "display_data"
    }
   ],
   "source": [
    "#edellinen esitettynä kuviona\n",
    "ax1 = df2.transpose().plot.barh(stacked = True, color=['maroon','red','gray','blue','navy'])\n",
    "\n",
    "ax1.set_xticklabels(['{:.0f} %'.format(x*100) for x in ax1.get_xticks()])"
   ]
  },
  {
   "cell_type": "code",
   "execution_count": null,
   "metadata": {},
   "outputs": [],
   "source": []
  }
 ],
 "metadata": {
  "kernelspec": {
   "display_name": "Python 3",
   "language": "python",
   "name": "python3"
  },
  "language_info": {
   "codemirror_mode": {
    "name": "ipython",
    "version": 3
   },
   "file_extension": ".py",
   "mimetype": "text/x-python",
   "name": "python",
   "nbconvert_exporter": "python",
   "pygments_lexer": "ipython3",
   "version": "3.7.1"
  }
 },
 "nbformat": 4,
 "nbformat_minor": 2
}
